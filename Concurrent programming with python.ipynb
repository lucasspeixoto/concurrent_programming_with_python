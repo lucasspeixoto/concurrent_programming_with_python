{
 "cells": [
  {
   "cell_type": "markdown",
   "id": "126dc82f",
   "metadata": {},
   "source": [
    "## 💻 Projeto\n",
    "\n",
    "Scripts do Curso \"Programação Concorrente e assíncrona com Python\"\n",
    "<br>\n",
    "\n",
    "#### TL;DR\n",
    "\n",
    "| Type                       | Public               | Internal              |\n",
    "| :------------------------- | :------------------- | :-------------------- |\n",
    "| Packages                   | `lower_with_under`   |                       |\n",
    "| Modules                    | `lower_with_under`   | `_lower_with_under`   |\n",
    "| Classes                    | `CapWords`           | `_CapWords`           |\n",
    "| Exceptions                 | `CapWords`           |                       |\n",
    "| Functions                  | `lower_with_under()` | `_lower_with_under()` |\n",
    "| Global/Class Constants     | `CAPS_WITH_UNDER`    | `_CAPS_WITH_UNDER`    |\n",
    "| Global/Class Variables     | `lower_with_under`   | `_lower_with_under`   |\n",
    "| Instance Variables         | `lower_with_under`   | `_lower_with_under`   |\n",
    "| Method Names               | `lower_with_under()` | `_lower_with_under()` |\n",
    "| Function/Method Parameters | `lower_with_under`   |                       |\n",
    "| Local Variables            | `lower_with_under`   |                       |\n",
    "\n",
    "<br>\n",
    "\n",
    "## ✨ Convenções\n",
    "\n",
    "Esse projeto foi desenvolvido seguindo as convenções da PEP8:\n",
    "\n",
    "- [Resumo](https://github.com/naming-convention/naming-convention-guides/blob/master/python/README.md)\n",
    "- [PEP8](https://peps.python.org/pep-0008/)"
   ]
  },
  {
   "cell_type": "markdown",
   "id": "5b2854e3",
   "metadata": {},
   "source": [
    "<h1 style=\"color: #2AC88C\">Introdução a Programação Paralela e assíncrona com Python</h1>"
   ]
  },
  {
   "cell_type": "markdown",
   "id": "87a7a9ad",
   "metadata": {},
   "source": [
    "Ao executar um programa Python, o que ocorre?\n",
    "- O interpretador Python cria um processo no sistema operacional;\n",
    "- O processo Python cria uma thread (linha de execução) para executar o código;\n",
    "\n",
    "Mas o que é a Concorrência?\n",
    "Em Ciência da Computação, concorrência é a execução de múltiplas instruções sequenciais ao mesmo tempo.\n",
    "Existem dois tipos principais de concorrência:\n",
    "- Programação Paralela;\n",
    "- Programação Assíncrona;\n",
    "- Programação Distribuída;\n",
    "\n",
    "Esta execução deve se atentar para alguns pontos fundamentais:\n",
    "- Ordem de execução\n",
    "    * A ordem de execução das instruções não devem gerar efeitos no resultado final. Ou seja, se a instrução 3 terminar antes da instrução 2 ou 1, devemos ter o mesmo resultado que se a instrução 1, 2 e 3 ocorressem na sequência.\n",
    "- Recursos compartilhados\n",
    "    * A execução deve compartilhar o mínimo de recursos possível entre as instruções.\n",
    "    * Quanto mais recursos forem compartilhados entre as execuções concorrentes, mais coordenação entre as execuções será necessária para garantir o resultado final correto, dificultando o processo."
   ]
  },
  {
   "cell_type": "code",
   "execution_count": null,
   "id": "2a7b7682",
   "metadata": {},
   "outputs": [],
   "source": []
  },
  {
   "cell_type": "code",
   "execution_count": 26,
   "id": "32e2d48b",
   "metadata": {},
   "outputs": [
    {
     "name": "stdout",
     "output_type": "stream",
     "text": [
      "setter method called\n",
      "getter method called\n",
      "19\n"
     ]
    }
   ],
   "source": [
    "# Python program showing the use of\n",
    "# @property\n",
    "  \n",
    "class Geeks:\n",
    "    def __init__(self):\n",
    "        self._age = 0\n",
    "       \n",
    "     # using property decorator\n",
    "     # a getter function\n",
    "    @property\n",
    "    def age(self):\n",
    "        print(\"getter method called\")\n",
    "        return self._age\n",
    "\n",
    "     # a setter function\n",
    "    @age.setter\n",
    "    def age(self, a):\n",
    "        if(a < 18):\n",
    "            raise ValueError(\"Sorry you age is below eligibility criteria\")\n",
    "        print(\"setter method called\")\n",
    "        self._age = a\n",
    "  \n",
    "mark = Geeks()\n",
    "  \n",
    "mark.age = 19\n",
    "  \n",
    "print(mark.age)\n",
    "        "
   ]
  },
  {
   "cell_type": "code",
   "execution_count": null,
   "id": "a48a818d",
   "metadata": {},
   "outputs": [],
   "source": []
  },
  {
   "cell_type": "code",
   "execution_count": null,
   "id": "c6665d59",
   "metadata": {},
   "outputs": [],
   "source": []
  },
  {
   "cell_type": "code",
   "execution_count": null,
   "id": "27043b61",
   "metadata": {},
   "outputs": [],
   "source": []
  }
 ],
 "metadata": {
  "kernelspec": {
   "display_name": "Python 3 (ipykernel)",
   "language": "python",
   "name": "python3"
  },
  "language_info": {
   "codemirror_mode": {
    "name": "ipython",
    "version": 3
   },
   "file_extension": ".py",
   "mimetype": "text/x-python",
   "name": "python",
   "nbconvert_exporter": "python",
   "pygments_lexer": "ipython3",
   "version": "3.10.4"
  }
 },
 "nbformat": 4,
 "nbformat_minor": 5
}
